{
 "cells": [
  {
   "cell_type": "code",
   "execution_count": 104,
   "metadata": {},
   "outputs": [],
   "source": [
    "import pandas as pd\n",
    "import matplotlib.pyplot as plt"
   ]
  },
  {
   "cell_type": "code",
   "execution_count": 105,
   "metadata": {},
   "outputs": [],
   "source": [
    "DATADIR = \"../data/\""
   ]
  },
  {
   "cell_type": "code",
   "execution_count": 106,
   "metadata": {},
   "outputs": [
    {
     "data": {
      "text/plain": [
       "'../data/police_kill_2015.csv'"
      ]
     },
     "execution_count": 106,
     "metadata": {},
     "output_type": "execute_result"
    }
   ],
   "source": [
    "f\"{DATADIR}police_kill_2015.csv\""
   ]
  },
  {
   "cell_type": "code",
   "execution_count": 107,
   "metadata": {},
   "outputs": [],
   "source": [
    "data_2015 = pd.read_csv('../data/police_kill_2015.csv', encoding=\"cp1252\")\n",
    "data_2016 = pd.read_csv('../data/police_kill_2016.csv', encoding=\"ISO-8859–1\")"
   ]
  },
  {
   "cell_type": "code",
   "execution_count": 108,
   "metadata": {},
   "outputs": [
    {
     "data": {
      "text/html": [
       "<div>\n",
       "<style scoped>\n",
       "    .dataframe tbody tr th:only-of-type {\n",
       "        vertical-align: middle;\n",
       "    }\n",
       "\n",
       "    .dataframe tbody tr th {\n",
       "        vertical-align: top;\n",
       "    }\n",
       "\n",
       "    .dataframe thead th {\n",
       "        text-align: right;\n",
       "    }\n",
       "</style>\n",
       "<table border=\"1\" class=\"dataframe\">\n",
       "  <thead>\n",
       "    <tr style=\"text-align: right;\">\n",
       "      <th></th>\n",
       "      <th>uid</th>\n",
       "      <th>name</th>\n",
       "      <th>age</th>\n",
       "      <th>gender</th>\n",
       "      <th>raceethnicity</th>\n",
       "      <th>armed</th>\n",
       "      <th>month</th>\n",
       "      <th>day</th>\n",
       "      <th>year</th>\n",
       "      <th>streetaddress</th>\n",
       "      <th>city</th>\n",
       "      <th>state</th>\n",
       "      <th>latitude</th>\n",
       "      <th>longitude</th>\n",
       "      <th>classification</th>\n",
       "      <th>lawenforcementagency</th>\n",
       "    </tr>\n",
       "  </thead>\n",
       "  <tbody>\n",
       "    <tr>\n",
       "      <th>0</th>\n",
       "      <td>2</td>\n",
       "      <td>Matthew Ajibade</td>\n",
       "      <td>22</td>\n",
       "      <td>Male</td>\n",
       "      <td>Black</td>\n",
       "      <td>No</td>\n",
       "      <td>January</td>\n",
       "      <td>1</td>\n",
       "      <td>2015</td>\n",
       "      <td>1050 Carl Griffin Dr</td>\n",
       "      <td>Savannah</td>\n",
       "      <td>GA</td>\n",
       "      <td>32.066691</td>\n",
       "      <td>-81.167881</td>\n",
       "      <td>Death in custody</td>\n",
       "      <td>Chatham County Sheriff's Office</td>\n",
       "    </tr>\n",
       "    <tr>\n",
       "      <th>1</th>\n",
       "      <td>4</td>\n",
       "      <td>Lewis Lembke</td>\n",
       "      <td>47</td>\n",
       "      <td>Male</td>\n",
       "      <td>White</td>\n",
       "      <td>Firearm</td>\n",
       "      <td>January</td>\n",
       "      <td>2</td>\n",
       "      <td>2015</td>\n",
       "      <td>4505 SW Masters Loop</td>\n",
       "      <td>Aloha</td>\n",
       "      <td>OR</td>\n",
       "      <td>45.487473</td>\n",
       "      <td>-122.891698</td>\n",
       "      <td>Gunshot</td>\n",
       "      <td>Washington County Sheriff's Office</td>\n",
       "    </tr>\n",
       "    <tr>\n",
       "      <th>2</th>\n",
       "      <td>5</td>\n",
       "      <td>Michael Kocher Jr</td>\n",
       "      <td>19</td>\n",
       "      <td>Male</td>\n",
       "      <td>White</td>\n",
       "      <td>No</td>\n",
       "      <td>January</td>\n",
       "      <td>3</td>\n",
       "      <td>2015</td>\n",
       "      <td>2600 Kaumualii Hwy</td>\n",
       "      <td>Kaumakani</td>\n",
       "      <td>HI</td>\n",
       "      <td>21.933347</td>\n",
       "      <td>-159.641972</td>\n",
       "      <td>Struck by vehicle</td>\n",
       "      <td>Kauai Police Department</td>\n",
       "    </tr>\n",
       "    <tr>\n",
       "      <th>3</th>\n",
       "      <td>6</td>\n",
       "      <td>John Quintero</td>\n",
       "      <td>23</td>\n",
       "      <td>Male</td>\n",
       "      <td>Hispanic/Latino</td>\n",
       "      <td>No</td>\n",
       "      <td>January</td>\n",
       "      <td>3</td>\n",
       "      <td>2015</td>\n",
       "      <td>500 North Oliver Ave</td>\n",
       "      <td>Wichita</td>\n",
       "      <td>KS</td>\n",
       "      <td>37.693797</td>\n",
       "      <td>-97.280549</td>\n",
       "      <td>Gunshot</td>\n",
       "      <td>Wichita Police Department</td>\n",
       "    </tr>\n",
       "    <tr>\n",
       "      <th>4</th>\n",
       "      <td>7</td>\n",
       "      <td>Tim Elliott</td>\n",
       "      <td>53</td>\n",
       "      <td>Male</td>\n",
       "      <td>Asian/Pacific Islander</td>\n",
       "      <td>Firearm</td>\n",
       "      <td>January</td>\n",
       "      <td>2</td>\n",
       "      <td>2015</td>\n",
       "      <td>600 E Island Lake Dr</td>\n",
       "      <td>Shelton</td>\n",
       "      <td>WA</td>\n",
       "      <td>47.246534</td>\n",
       "      <td>-123.119497</td>\n",
       "      <td>Gunshot</td>\n",
       "      <td>Mason County Sheriff's Office</td>\n",
       "    </tr>\n",
       "  </tbody>\n",
       "</table>\n",
       "</div>"
      ],
      "text/plain": [
       "   uid               name age gender           raceethnicity    armed  \\\n",
       "0    2    Matthew Ajibade  22   Male                   Black       No   \n",
       "1    4       Lewis Lembke  47   Male                   White  Firearm   \n",
       "2    5  Michael Kocher Jr  19   Male                   White       No   \n",
       "3    6      John Quintero  23   Male         Hispanic/Latino       No   \n",
       "4    7        Tim Elliott  53   Male  Asian/Pacific Islander  Firearm   \n",
       "\n",
       "     month  day  year         streetaddress       city state   latitude  \\\n",
       "0  January    1  2015  1050 Carl Griffin Dr   Savannah    GA  32.066691   \n",
       "1  January    2  2015  4505 SW Masters Loop      Aloha    OR  45.487473   \n",
       "2  January    3  2015    2600 Kaumualii Hwy  Kaumakani    HI  21.933347   \n",
       "3  January    3  2015  500 North Oliver Ave    Wichita    KS  37.693797   \n",
       "4  January    2  2015  600 E Island Lake Dr    Shelton    WA  47.246534   \n",
       "\n",
       "    longitude     classification                lawenforcementagency  \n",
       "0  -81.167881   Death in custody     Chatham County Sheriff's Office  \n",
       "1 -122.891698            Gunshot  Washington County Sheriff's Office  \n",
       "2 -159.641972  Struck by vehicle             Kauai Police Department  \n",
       "3  -97.280549            Gunshot           Wichita Police Department  \n",
       "4 -123.119497            Gunshot       Mason County Sheriff's Office  "
      ]
     },
     "execution_count": 108,
     "metadata": {},
     "output_type": "execute_result"
    }
   ],
   "source": [
    "killed = pd.concat([data_2015, data_2016])\n",
    "killed.head()"
   ]
  },
  {
   "cell_type": "code",
   "execution_count": 109,
   "metadata": {},
   "outputs": [
    {
     "data": {
      "text/plain": [
       "(2226, 16)"
      ]
     },
     "execution_count": 109,
     "metadata": {},
     "output_type": "execute_result"
    }
   ],
   "source": [
    "killed.shape"
   ]
  },
  {
   "cell_type": "code",
   "execution_count": 110,
   "metadata": {},
   "outputs": [
    {
     "data": {
      "text/html": [
       "<div>\n",
       "<style scoped>\n",
       "    .dataframe tbody tr th:only-of-type {\n",
       "        vertical-align: middle;\n",
       "    }\n",
       "\n",
       "    .dataframe tbody tr th {\n",
       "        vertical-align: top;\n",
       "    }\n",
       "\n",
       "    .dataframe thead th {\n",
       "        text-align: right;\n",
       "    }\n",
       "</style>\n",
       "<table border=\"1\" class=\"dataframe\">\n",
       "  <thead>\n",
       "    <tr style=\"text-align: right;\">\n",
       "      <th></th>\n",
       "      <th>uid</th>\n",
       "      <th>day</th>\n",
       "      <th>year</th>\n",
       "      <th>latitude</th>\n",
       "      <th>longitude</th>\n",
       "    </tr>\n",
       "  </thead>\n",
       "  <tbody>\n",
       "    <tr>\n",
       "      <th>count</th>\n",
       "      <td>2.226000e+03</td>\n",
       "      <td>2226.000000</td>\n",
       "      <td>2226.000000</td>\n",
       "      <td>2156.000000</td>\n",
       "      <td>2156.000000</td>\n",
       "    </tr>\n",
       "    <tr>\n",
       "      <th>mean</th>\n",
       "      <td>1.622686e+06</td>\n",
       "      <td>15.740341</td>\n",
       "      <td>2015.485175</td>\n",
       "      <td>36.591295</td>\n",
       "      <td>-96.858648</td>\n",
       "    </tr>\n",
       "    <tr>\n",
       "      <th>std</th>\n",
       "      <td>3.905932e+06</td>\n",
       "      <td>8.681581</td>\n",
       "      <td>0.499892</td>\n",
       "      <td>5.289955</td>\n",
       "      <td>16.998437</td>\n",
       "    </tr>\n",
       "    <tr>\n",
       "      <th>min</th>\n",
       "      <td>2.000000e+00</td>\n",
       "      <td>1.000000</td>\n",
       "      <td>2015.000000</td>\n",
       "      <td>19.085159</td>\n",
       "      <td>-159.641972</td>\n",
       "    </tr>\n",
       "    <tr>\n",
       "      <th>25%</th>\n",
       "      <td>5.692500e+02</td>\n",
       "      <td>8.000000</td>\n",
       "      <td>2015.000000</td>\n",
       "      <td>33.469147</td>\n",
       "      <td>-112.207694</td>\n",
       "    </tr>\n",
       "    <tr>\n",
       "      <th>50%</th>\n",
       "      <td>1.143500e+03</td>\n",
       "      <td>16.000000</td>\n",
       "      <td>2015.000000</td>\n",
       "      <td>36.109137</td>\n",
       "      <td>-93.698624</td>\n",
       "    </tr>\n",
       "    <tr>\n",
       "      <th>75%</th>\n",
       "      <td>2.016528e+06</td>\n",
       "      <td>23.000000</td>\n",
       "      <td>2016.000000</td>\n",
       "      <td>39.966326</td>\n",
       "      <td>-82.591597</td>\n",
       "    </tr>\n",
       "    <tr>\n",
       "      <th>max</th>\n",
       "      <td>2.016109e+07</td>\n",
       "      <td>31.000000</td>\n",
       "      <td>2016.000000</td>\n",
       "      <td>71.301250</td>\n",
       "      <td>-68.014343</td>\n",
       "    </tr>\n",
       "  </tbody>\n",
       "</table>\n",
       "</div>"
      ],
      "text/plain": [
       "                uid          day         year     latitude    longitude\n",
       "count  2.226000e+03  2226.000000  2226.000000  2156.000000  2156.000000\n",
       "mean   1.622686e+06    15.740341  2015.485175    36.591295   -96.858648\n",
       "std    3.905932e+06     8.681581     0.499892     5.289955    16.998437\n",
       "min    2.000000e+00     1.000000  2015.000000    19.085159  -159.641972\n",
       "25%    5.692500e+02     8.000000  2015.000000    33.469147  -112.207694\n",
       "50%    1.143500e+03    16.000000  2015.000000    36.109137   -93.698624\n",
       "75%    2.016528e+06    23.000000  2016.000000    39.966326   -82.591597\n",
       "max    2.016109e+07    31.000000  2016.000000    71.301250   -68.014343"
      ]
     },
     "execution_count": 110,
     "metadata": {},
     "output_type": "execute_result"
    }
   ],
   "source": [
    "killed.describe()"
   ]
  },
  {
   "cell_type": "code",
   "execution_count": 111,
   "metadata": {},
   "outputs": [
    {
     "data": {
      "text/plain": [
       "uid                       int64\n",
       "name                     object\n",
       "age                      object\n",
       "gender                   object\n",
       "raceethnicity            object\n",
       "armed                    object\n",
       "month                    object\n",
       "day                       int64\n",
       "year                      int64\n",
       "streetaddress            object\n",
       "city                     object\n",
       "state                    object\n",
       "latitude                float64\n",
       "longitude               float64\n",
       "classification           object\n",
       "lawenforcementagency     object\n",
       "dtype: object"
      ]
     },
     "execution_count": 111,
     "metadata": {},
     "output_type": "execute_result"
    }
   ],
   "source": [
    "killed.dtypes"
   ]
  },
  {
   "cell_type": "code",
   "execution_count": 112,
   "metadata": {},
   "outputs": [],
   "source": [
    "# Simplified column names\n",
    "killed = killed.rename(columns={\"raceethnicity\": \"race\", \"streetaddress\": \"address\", \"lawenforcementagency\": \"agency\"})"
   ]
  },
  {
   "cell_type": "code",
   "execution_count": 113,
   "metadata": {},
   "outputs": [
    {
     "data": {
      "image/png": "[encoded data removed]",
      "text/plain": [
       "<Figure size 432x288 with 1 Axes>"
      ]
     },
     "metadata": {
      "needs_background": "light"
     },
     "output_type": "display_data"
    }
   ],
   "source": [
    "ax = killed.loc[:, \"gender\"].value_counts().sort_values().plot.barh()\n",
    "ax.set_title(\"Killed by Gender\", fontsize=16);"
   ]
  },
  {
   "cell_type": "code",
   "execution_count": 114,
   "metadata": {},
   "outputs": [
    {
     "data": {
      "image/png": "[encoded data removed]",
      "text/plain": [
       "<Figure size 432x288 with 1 Axes>"
      ]
     },
     "metadata": {
      "needs_background": "light"
     },
     "output_type": "display_data"
    }
   ],
   "source": [
    "ax = killed.loc[:, \"race\"].value_counts().sort_values().plot.barh(color=\"darkred\")\n",
    "ax.set_title(\"Killed by Race\", fontsize=16);"
   ]
  },
  {
   "cell_type": "code",
   "execution_count": 198,
   "metadata": {},
   "outputs": [
    {
     "data": {
      "text/plain": [
       "White                     0.516622\n",
       "Black                     0.255166\n",
       "Hispanic/Latino           0.169811\n",
       "Asian/Pacific Islander    0.020216\n",
       "Unknown                   0.019317\n",
       "Native American           0.015274\n",
       "Arab-American             0.003145\n",
       "Other                     0.000449\n",
       "Name: race, dtype: float64"
      ]
     },
     "execution_count": 198,
     "metadata": {},
     "output_type": "execute_result"
    }
   ],
   "source": [
    "killed.loc[:, \"race\"].value_counts(normalize=True)"
   ]
  },
  {
   "cell_type": "code",
   "execution_count": 115,
   "metadata": {},
   "outputs": [
    {
     "data": {
      "image/png": "[encoded data removed]",
      "text/plain": [
       "<Figure size 432x288 with 1 Axes>"
      ]
     },
     "metadata": {
      "needs_background": "light"
     },
     "output_type": "display_data"
    }
   ],
   "source": [
    "ax = killed.loc[:, \"armed\"].value_counts().sort_values().plot.barh()\n",
    "ax.set_title(\"Armed Victims\", fontsize=16);"
   ]
  },
  {
   "cell_type": "code",
   "execution_count": 131,
   "metadata": {},
   "outputs": [],
   "source": [
    "black = killed.loc[killed.loc[:, \"race\"] == \"Black\", :]\n",
    "white = killed.loc[killed.loc[:, \"race\"] == \"White\", :]\n",
    "hispanic = killed.loc[killed.loc[:, \"race\"] == \"Hispanic/Latino\", :]"
   ]
  },
  {
   "cell_type": "code",
   "execution_count": 129,
   "metadata": {},
   "outputs": [
    {
     "data": {
      "text/plain": [
       "Firearm               279\n",
       "No                    119\n",
       "Knife                  57\n",
       "Unknown                30\n",
       "Vehicle                26\n",
       "Other                  23\n",
       "Non-lethal firearm     22\n",
       "Disputed               12\n",
       "Name: armed, dtype: int64"
      ]
     },
     "execution_count": 129,
     "metadata": {},
     "output_type": "execute_result"
    }
   ],
   "source": [
    "black.loc[:, \"armed\"].value_counts()"
   ]
  },
  {
   "cell_type": "code",
   "execution_count": 130,
   "metadata": {},
   "outputs": [
    {
     "data": {
      "text/plain": [
       "Firearm               560\n",
       "No                    190\n",
       "Knife                 154\n",
       "Unknown                83\n",
       "Other                  67\n",
       "Non-lethal firearm     57\n",
       "Vehicle                37\n",
       "Disputed                2\n",
       "Name: armed, dtype: int64"
      ]
     },
     "execution_count": 130,
     "metadata": {},
     "output_type": "execute_result"
    }
   ],
   "source": [
    "white.loc[:, \"armed\"].value_counts()"
   ]
  },
  {
   "cell_type": "code",
   "execution_count": 132,
   "metadata": {},
   "outputs": [
    {
     "data": {
      "text/plain": [
       "Firearm               161\n",
       "No                     65\n",
       "Knife                  65\n",
       "Unknown                33\n",
       "Other                  31\n",
       "Non-lethal firearm     12\n",
       "Vehicle                10\n",
       "Disputed                1\n",
       "Name: armed, dtype: int64"
      ]
     },
     "execution_count": 132,
     "metadata": {},
     "output_type": "execute_result"
    }
   ],
   "source": [
    "hispanic.loc[:, \"armed\"].value_counts()"
   ]
  },
  {
   "cell_type": "code",
   "execution_count": 143,
   "metadata": {},
   "outputs": [
    {
     "data": {
      "text/html": [
       "<div>\n",
       "<style scoped>\n",
       "    .dataframe tbody tr th:only-of-type {\n",
       "        vertical-align: middle;\n",
       "    }\n",
       "\n",
       "    .dataframe tbody tr th {\n",
       "        vertical-align: top;\n",
       "    }\n",
       "\n",
       "    .dataframe thead th {\n",
       "        text-align: right;\n",
       "    }\n",
       "</style>\n",
       "<table border=\"1\" class=\"dataframe\">\n",
       "  <thead>\n",
       "    <tr style=\"text-align: right;\">\n",
       "      <th></th>\n",
       "      <th>uid</th>\n",
       "      <th>name</th>\n",
       "      <th>age</th>\n",
       "      <th>gender</th>\n",
       "      <th>race</th>\n",
       "      <th>armed</th>\n",
       "      <th>month</th>\n",
       "      <th>day</th>\n",
       "      <th>year</th>\n",
       "      <th>address</th>\n",
       "      <th>city</th>\n",
       "      <th>state</th>\n",
       "      <th>latitude</th>\n",
       "      <th>longitude</th>\n",
       "      <th>classification</th>\n",
       "      <th>agency</th>\n",
       "    </tr>\n",
       "  </thead>\n",
       "  <tbody>\n",
       "    <tr>\n",
       "      <th>64</th>\n",
       "      <td>67</td>\n",
       "      <td>Darin Hutchins</td>\n",
       "      <td>26</td>\n",
       "      <td>Male</td>\n",
       "      <td>Black</td>\n",
       "      <td>Knife</td>\n",
       "      <td>January</td>\n",
       "      <td>24</td>\n",
       "      <td>2015</td>\n",
       "      <td>1900 McHenry St</td>\n",
       "      <td>Baltimore</td>\n",
       "      <td>MD</td>\n",
       "      <td>39.284467</td>\n",
       "      <td>-76.646863</td>\n",
       "      <td>Gunshot</td>\n",
       "      <td>Baltimore Police Department</td>\n",
       "    </tr>\n",
       "    <tr>\n",
       "      <th>412</th>\n",
       "      <td>421</td>\n",
       "      <td>Freddie Gray</td>\n",
       "      <td>25</td>\n",
       "      <td>Male</td>\n",
       "      <td>Black</td>\n",
       "      <td>No</td>\n",
       "      <td>April</td>\n",
       "      <td>12</td>\n",
       "      <td>2015</td>\n",
       "      <td>Mount St and Presbury St</td>\n",
       "      <td>Baltimore</td>\n",
       "      <td>MD</td>\n",
       "      <td>39.307973</td>\n",
       "      <td>-76.644875</td>\n",
       "      <td>Death in custody</td>\n",
       "      <td>Baltimore Police Department</td>\n",
       "    </tr>\n",
       "    <tr>\n",
       "      <th>981</th>\n",
       "      <td>1007</td>\n",
       "      <td>Ryan Martin</td>\n",
       "      <td>32</td>\n",
       "      <td>Male</td>\n",
       "      <td>Black</td>\n",
       "      <td>Firearm</td>\n",
       "      <td>November</td>\n",
       "      <td>11</td>\n",
       "      <td>2015</td>\n",
       "      <td>3700 Oakmont Ave</td>\n",
       "      <td>Baltimore</td>\n",
       "      <td>MD</td>\n",
       "      <td>39.343138</td>\n",
       "      <td>-76.677457</td>\n",
       "      <td>Gunshot</td>\n",
       "      <td>Baltimore Police Department</td>\n",
       "    </tr>\n",
       "    <tr>\n",
       "      <th>261</th>\n",
       "      <td>2016265</td>\n",
       "      <td>Matthew Wood Jr</td>\n",
       "      <td>43</td>\n",
       "      <td>Male</td>\n",
       "      <td>Black</td>\n",
       "      <td>Firearm</td>\n",
       "      <td>March</td>\n",
       "      <td>31</td>\n",
       "      <td>2016</td>\n",
       "      <td>400 E Lanvale St</td>\n",
       "      <td>Baltimore</td>\n",
       "      <td>MD</td>\n",
       "      <td>39.309054</td>\n",
       "      <td>-76.610476</td>\n",
       "      <td>Gunshot</td>\n",
       "      <td>Baltimore Police Department</td>\n",
       "    </tr>\n",
       "    <tr>\n",
       "      <th>262</th>\n",
       "      <td>2016266</td>\n",
       "      <td>Kimani Johnson</td>\n",
       "      <td>18</td>\n",
       "      <td>Male</td>\n",
       "      <td>Black</td>\n",
       "      <td>Firearm</td>\n",
       "      <td>March</td>\n",
       "      <td>31</td>\n",
       "      <td>2016</td>\n",
       "      <td>400 E Lanvale St</td>\n",
       "      <td>Baltimore</td>\n",
       "      <td>MD</td>\n",
       "      <td>39.309054</td>\n",
       "      <td>-76.610476</td>\n",
       "      <td>Gunshot</td>\n",
       "      <td>Baltimore Police Department</td>\n",
       "    </tr>\n",
       "    <tr>\n",
       "      <th>310</th>\n",
       "      <td>2016314</td>\n",
       "      <td>Robert Howard</td>\n",
       "      <td>44</td>\n",
       "      <td>Male</td>\n",
       "      <td>Black</td>\n",
       "      <td>Non-lethal firearm</td>\n",
       "      <td>April</td>\n",
       "      <td>15</td>\n",
       "      <td>2016</td>\n",
       "      <td>1400 W Baltimore St</td>\n",
       "      <td>Baltimore</td>\n",
       "      <td>MD</td>\n",
       "      <td>39.288679</td>\n",
       "      <td>-76.639768</td>\n",
       "      <td>Gunshot</td>\n",
       "      <td>Baltimore Police Department</td>\n",
       "    </tr>\n",
       "    <tr>\n",
       "      <th>586</th>\n",
       "      <td>2016592</td>\n",
       "      <td>Dayten Harper</td>\n",
       "      <td>33</td>\n",
       "      <td>Male</td>\n",
       "      <td>Black</td>\n",
       "      <td>Firearm</td>\n",
       "      <td>July</td>\n",
       "      <td>14</td>\n",
       "      <td>2016</td>\n",
       "      <td>2300 Winchester St</td>\n",
       "      <td>Baltimore</td>\n",
       "      <td>MD</td>\n",
       "      <td>39.301760</td>\n",
       "      <td>-76.653627</td>\n",
       "      <td>Gunshot</td>\n",
       "      <td>Baltimore Police Department</td>\n",
       "    </tr>\n",
       "    <tr>\n",
       "      <th>1025</th>\n",
       "      <td>20161034</td>\n",
       "      <td>Lavar Douglas</td>\n",
       "      <td>18</td>\n",
       "      <td>Male</td>\n",
       "      <td>Black</td>\n",
       "      <td>Firearm</td>\n",
       "      <td>December</td>\n",
       "      <td>13</td>\n",
       "      <td>2016</td>\n",
       "      <td>2500 W North Ave</td>\n",
       "      <td>Baltimore</td>\n",
       "      <td>MD</td>\n",
       "      <td>39.310026</td>\n",
       "      <td>-76.658755</td>\n",
       "      <td>Gunshot</td>\n",
       "      <td>Coppin State Police Department</td>\n",
       "    </tr>\n",
       "  </tbody>\n",
       "</table>\n",
       "</div>"
      ],
      "text/plain": [
       "           uid             name age gender   race               armed  \\\n",
       "64          67   Darin Hutchins  26   Male  Black               Knife   \n",
       "412        421     Freddie Gray  25   Male  Black                  No   \n",
       "981       1007      Ryan Martin  32   Male  Black             Firearm   \n",
       "261    2016265  Matthew Wood Jr  43   Male  Black             Firearm   \n",
       "262    2016266   Kimani Johnson  18   Male  Black             Firearm   \n",
       "310    2016314    Robert Howard  44   Male  Black  Non-lethal firearm   \n",
       "586    2016592    Dayten Harper  33   Male  Black             Firearm   \n",
       "1025  20161034    Lavar Douglas  18   Male  Black             Firearm   \n",
       "\n",
       "         month  day  year                   address       city state  \\\n",
       "64     January   24  2015           1900 McHenry St  Baltimore    MD   \n",
       "412      April   12  2015  Mount St and Presbury St  Baltimore    MD   \n",
       "981   November   11  2015          3700 Oakmont Ave  Baltimore    MD   \n",
       "261      March   31  2016          400 E Lanvale St  Baltimore    MD   \n",
       "262      March   31  2016          400 E Lanvale St  Baltimore    MD   \n",
       "310      April   15  2016       1400 W Baltimore St  Baltimore    MD   \n",
       "586       July   14  2016        2300 Winchester St  Baltimore    MD   \n",
       "1025  December   13  2016          2500 W North Ave  Baltimore    MD   \n",
       "\n",
       "       latitude  longitude    classification                          agency  \n",
       "64    39.284467 -76.646863           Gunshot     Baltimore Police Department  \n",
       "412   39.307973 -76.644875  Death in custody     Baltimore Police Department  \n",
       "981   39.343138 -76.677457           Gunshot     Baltimore Police Department  \n",
       "261   39.309054 -76.610476           Gunshot     Baltimore Police Department  \n",
       "262   39.309054 -76.610476           Gunshot     Baltimore Police Department  \n",
       "310   39.288679 -76.639768           Gunshot     Baltimore Police Department  \n",
       "586   39.301760 -76.653627           Gunshot     Baltimore Police Department  \n",
       "1025  39.310026 -76.658755           Gunshot  Coppin State Police Department  "
      ]
     },
     "execution_count": 143,
     "metadata": {},
     "output_type": "execute_result"
    }
   ],
   "source": [
    "killed.loc[killed.loc[:, \"city\"] == \"Baltimore\", :]"
   ]
  },
  {
   "cell_type": "markdown",
   "metadata": {},
   "source": [
    "****\n",
    "### Arrests Data"
   ]
  },
  {
   "cell_type": "markdown",
   "metadata": {},
   "source": [
    "Dataset contains arrest information for the city of Baltimore."
   ]
  },
  {
   "cell_type": "code",
   "execution_count": 135,
   "metadata": {},
   "outputs": [
    {
     "data": {
      "text/html": [
       "<div>\n",
       "<style scoped>\n",
       "    .dataframe tbody tr th:only-of-type {\n",
       "        vertical-align: middle;\n",
       "    }\n",
       "\n",
       "    .dataframe tbody tr th {\n",
       "        vertical-align: top;\n",
       "    }\n",
       "\n",
       "    .dataframe thead th {\n",
       "        text-align: right;\n",
       "    }\n",
       "</style>\n",
       "<table border=\"1\" class=\"dataframe\">\n",
       "  <thead>\n",
       "    <tr style=\"text-align: right;\">\n",
       "      <th></th>\n",
       "      <th>Arrest</th>\n",
       "      <th>Age</th>\n",
       "      <th>Sex</th>\n",
       "      <th>Race</th>\n",
       "      <th>ArrestDate</th>\n",
       "      <th>ArrestTime</th>\n",
       "      <th>ArrestLocation</th>\n",
       "      <th>IncidentOffense</th>\n",
       "      <th>IncidentLocation</th>\n",
       "      <th>Charge</th>\n",
       "      <th>ChargeDescription</th>\n",
       "      <th>District</th>\n",
       "      <th>Post</th>\n",
       "      <th>Neighborhood</th>\n",
       "      <th>Location 1</th>\n",
       "    </tr>\n",
       "  </thead>\n",
       "  <tbody>\n",
       "    <tr>\n",
       "      <th>0</th>\n",
       "      <td>16160529.0</td>\n",
       "      <td>54.0</td>\n",
       "      <td>M</td>\n",
       "      <td>B</td>\n",
       "      <td>11/12/2016</td>\n",
       "      <td>22:35</td>\n",
       "      <td>3500 PELHAM AVE</td>\n",
       "      <td>4ECOMMON ASSAULT</td>\n",
       "      <td>3500 PELHAM AVE</td>\n",
       "      <td>1 1415</td>\n",
       "      <td>COMMON ASSAULT</td>\n",
       "      <td>Northeastern</td>\n",
       "      <td>432.0</td>\n",
       "      <td>Belair-Edison</td>\n",
       "      <td>(39.3208685519, -76.5652449141)</td>\n",
       "    </tr>\n",
       "    <tr>\n",
       "      <th>1</th>\n",
       "      <td>16160490.0</td>\n",
       "      <td>22.0</td>\n",
       "      <td>M</td>\n",
       "      <td>B</td>\n",
       "      <td>11/12/2016</td>\n",
       "      <td>21:49</td>\n",
       "      <td>300 S LOUDON AVE</td>\n",
       "      <td>Unknown Offense</td>\n",
       "      <td>300 S LOUDON AVE</td>\n",
       "      <td>4 3550</td>\n",
       "      <td>POSSESSION</td>\n",
       "      <td>Southwestern</td>\n",
       "      <td>833.0</td>\n",
       "      <td>Irvington</td>\n",
       "      <td>(39.2811486601, -76.6821278085)</td>\n",
       "    </tr>\n",
       "    <tr>\n",
       "      <th>2</th>\n",
       "      <td>16160487.0</td>\n",
       "      <td>31.0</td>\n",
       "      <td>M</td>\n",
       "      <td>B</td>\n",
       "      <td>11/12/2016</td>\n",
       "      <td>21:40</td>\n",
       "      <td>NaN</td>\n",
       "      <td>Unknown Offense</td>\n",
       "      <td>NaN</td>\n",
       "      <td>1 0077</td>\n",
       "      <td>FAILURE TO APPEAR</td>\n",
       "      <td>NaN</td>\n",
       "      <td>NaN</td>\n",
       "      <td>NaN</td>\n",
       "      <td>NaN</td>\n",
       "    </tr>\n",
       "    <tr>\n",
       "      <th>3</th>\n",
       "      <td>16160485.0</td>\n",
       "      <td>31.0</td>\n",
       "      <td>M</td>\n",
       "      <td>B</td>\n",
       "      <td>11/12/2016</td>\n",
       "      <td>20:30</td>\n",
       "      <td>NaN</td>\n",
       "      <td>Unknown Offense</td>\n",
       "      <td>NaN</td>\n",
       "      <td>1 0077</td>\n",
       "      <td>FAILURE TO APPEAR</td>\n",
       "      <td>NaN</td>\n",
       "      <td>NaN</td>\n",
       "      <td>NaN</td>\n",
       "      <td>NaN</td>\n",
       "    </tr>\n",
       "    <tr>\n",
       "      <th>4</th>\n",
       "      <td>16160481.0</td>\n",
       "      <td>33.0</td>\n",
       "      <td>M</td>\n",
       "      <td>B</td>\n",
       "      <td>11/12/2016</td>\n",
       "      <td>19:45</td>\n",
       "      <td>NaN</td>\n",
       "      <td>Unknown Offense</td>\n",
       "      <td>NaN</td>\n",
       "      <td>2 0480</td>\n",
       "      <td>MOTOR VEH/UNLAWFUL TAKING</td>\n",
       "      <td>NaN</td>\n",
       "      <td>NaN</td>\n",
       "      <td>NaN</td>\n",
       "      <td>NaN</td>\n",
       "    </tr>\n",
       "  </tbody>\n",
       "</table>\n",
       "</div>"
      ],
      "text/plain": [
       "       Arrest   Age Sex Race  ArrestDate ArrestTime    ArrestLocation  \\\n",
       "0  16160529.0  54.0   M    B  11/12/2016      22:35   3500 PELHAM AVE   \n",
       "1  16160490.0  22.0   M    B  11/12/2016      21:49  300 S LOUDON AVE   \n",
       "2  16160487.0  31.0   M    B  11/12/2016      21:40               NaN   \n",
       "3  16160485.0  31.0   M    B  11/12/2016      20:30               NaN   \n",
       "4  16160481.0  33.0   M    B  11/12/2016      19:45               NaN   \n",
       "\n",
       "    IncidentOffense  IncidentLocation  Charge          ChargeDescription  \\\n",
       "0  4ECOMMON ASSAULT   3500 PELHAM AVE  1 1415             COMMON ASSAULT   \n",
       "1   Unknown Offense  300 S LOUDON AVE  4 3550                 POSSESSION   \n",
       "2   Unknown Offense               NaN  1 0077          FAILURE TO APPEAR   \n",
       "3   Unknown Offense               NaN  1 0077          FAILURE TO APPEAR   \n",
       "4   Unknown Offense               NaN  2 0480  MOTOR VEH/UNLAWFUL TAKING   \n",
       "\n",
       "       District   Post   Neighborhood                       Location 1  \n",
       "0  Northeastern  432.0  Belair-Edison  (39.3208685519, -76.5652449141)  \n",
       "1  Southwestern  833.0      Irvington  (39.2811486601, -76.6821278085)  \n",
       "2           NaN    NaN            NaN                              NaN  \n",
       "3           NaN    NaN            NaN                              NaN  \n",
       "4           NaN    NaN            NaN                              NaN  "
      ]
     },
     "execution_count": 135,
     "metadata": {},
     "output_type": "execute_result"
    }
   ],
   "source": [
    "arrests = pd.read_csv(f\"{DATADIR}balitimore_police_arrests.csv\")\n",
    "arrests.head()"
   ]
  },
  {
   "cell_type": "code",
   "execution_count": 147,
   "metadata": {},
   "outputs": [],
   "source": [
    "arrests.loc[:, \"ArrestDate\"] = pd.to_datetime(arrests.loc[:, \"ArrestDate\"])"
   ]
  },
  {
   "cell_type": "code",
   "execution_count": 162,
   "metadata": {},
   "outputs": [
    {
     "data": {
      "text/html": [
       "<div>\n",
       "<style scoped>\n",
       "    .dataframe tbody tr th:only-of-type {\n",
       "        vertical-align: middle;\n",
       "    }\n",
       "\n",
       "    .dataframe tbody tr th {\n",
       "        vertical-align: top;\n",
       "    }\n",
       "\n",
       "    .dataframe thead th {\n",
       "        text-align: right;\n",
       "    }\n",
       "</style>\n",
       "<table border=\"1\" class=\"dataframe\">\n",
       "  <thead>\n",
       "    <tr style=\"text-align: right;\">\n",
       "      <th></th>\n",
       "      <th>Arrest</th>\n",
       "      <th>Age</th>\n",
       "      <th>Sex</th>\n",
       "      <th>Race</th>\n",
       "      <th>ArrestDate</th>\n",
       "      <th>ArrestTime</th>\n",
       "      <th>ArrestLocation</th>\n",
       "      <th>IncidentOffense</th>\n",
       "      <th>IncidentLocation</th>\n",
       "      <th>Charge</th>\n",
       "      <th>ChargeDescription</th>\n",
       "      <th>District</th>\n",
       "      <th>Post</th>\n",
       "      <th>Neighborhood</th>\n",
       "      <th>Location 1</th>\n",
       "      <th>ArrestYear</th>\n",
       "    </tr>\n",
       "  </thead>\n",
       "  <tbody>\n",
       "    <tr>\n",
       "      <th>0</th>\n",
       "      <td>16160529.0</td>\n",
       "      <td>54.0</td>\n",
       "      <td>M</td>\n",
       "      <td>B</td>\n",
       "      <td>2016-11-12</td>\n",
       "      <td>22:35</td>\n",
       "      <td>3500 PELHAM AVE</td>\n",
       "      <td>4ECOMMON ASSAULT</td>\n",
       "      <td>3500 PELHAM AVE</td>\n",
       "      <td>1 1415</td>\n",
       "      <td>COMMON ASSAULT</td>\n",
       "      <td>Northeastern</td>\n",
       "      <td>432.0</td>\n",
       "      <td>Belair-Edison</td>\n",
       "      <td>(39.3208685519, -76.5652449141)</td>\n",
       "      <td>2016</td>\n",
       "    </tr>\n",
       "    <tr>\n",
       "      <th>1</th>\n",
       "      <td>16160490.0</td>\n",
       "      <td>22.0</td>\n",
       "      <td>M</td>\n",
       "      <td>B</td>\n",
       "      <td>2016-11-12</td>\n",
       "      <td>21:49</td>\n",
       "      <td>300 S LOUDON AVE</td>\n",
       "      <td>Unknown Offense</td>\n",
       "      <td>300 S LOUDON AVE</td>\n",
       "      <td>4 3550</td>\n",
       "      <td>POSSESSION</td>\n",
       "      <td>Southwestern</td>\n",
       "      <td>833.0</td>\n",
       "      <td>Irvington</td>\n",
       "      <td>(39.2811486601, -76.6821278085)</td>\n",
       "      <td>2016</td>\n",
       "    </tr>\n",
       "    <tr>\n",
       "      <th>2</th>\n",
       "      <td>16160487.0</td>\n",
       "      <td>31.0</td>\n",
       "      <td>M</td>\n",
       "      <td>B</td>\n",
       "      <td>2016-11-12</td>\n",
       "      <td>21:40</td>\n",
       "      <td>NaN</td>\n",
       "      <td>Unknown Offense</td>\n",
       "      <td>NaN</td>\n",
       "      <td>1 0077</td>\n",
       "      <td>FAILURE TO APPEAR</td>\n",
       "      <td>NaN</td>\n",
       "      <td>NaN</td>\n",
       "      <td>NaN</td>\n",
       "      <td>NaN</td>\n",
       "      <td>2016</td>\n",
       "    </tr>\n",
       "    <tr>\n",
       "      <th>3</th>\n",
       "      <td>16160485.0</td>\n",
       "      <td>31.0</td>\n",
       "      <td>M</td>\n",
       "      <td>B</td>\n",
       "      <td>2016-11-12</td>\n",
       "      <td>20:30</td>\n",
       "      <td>NaN</td>\n",
       "      <td>Unknown Offense</td>\n",
       "      <td>NaN</td>\n",
       "      <td>1 0077</td>\n",
       "      <td>FAILURE TO APPEAR</td>\n",
       "      <td>NaN</td>\n",
       "      <td>NaN</td>\n",
       "      <td>NaN</td>\n",
       "      <td>NaN</td>\n",
       "      <td>2016</td>\n",
       "    </tr>\n",
       "    <tr>\n",
       "      <th>4</th>\n",
       "      <td>16160481.0</td>\n",
       "      <td>33.0</td>\n",
       "      <td>M</td>\n",
       "      <td>B</td>\n",
       "      <td>2016-11-12</td>\n",
       "      <td>19:45</td>\n",
       "      <td>NaN</td>\n",
       "      <td>Unknown Offense</td>\n",
       "      <td>NaN</td>\n",
       "      <td>2 0480</td>\n",
       "      <td>MOTOR VEH/UNLAWFUL TAKING</td>\n",
       "      <td>NaN</td>\n",
       "      <td>NaN</td>\n",
       "      <td>NaN</td>\n",
       "      <td>NaN</td>\n",
       "      <td>2016</td>\n",
       "    </tr>\n",
       "  </tbody>\n",
       "</table>\n",
       "</div>"
      ],
      "text/plain": [
       "       Arrest   Age Sex Race ArrestDate ArrestTime    ArrestLocation  \\\n",
       "0  16160529.0  54.0   M    B 2016-11-12      22:35   3500 PELHAM AVE   \n",
       "1  16160490.0  22.0   M    B 2016-11-12      21:49  300 S LOUDON AVE   \n",
       "2  16160487.0  31.0   M    B 2016-11-12      21:40               NaN   \n",
       "3  16160485.0  31.0   M    B 2016-11-12      20:30               NaN   \n",
       "4  16160481.0  33.0   M    B 2016-11-12      19:45               NaN   \n",
       "\n",
       "    IncidentOffense  IncidentLocation  Charge          ChargeDescription  \\\n",
       "0  4ECOMMON ASSAULT   3500 PELHAM AVE  1 1415             COMMON ASSAULT   \n",
       "1   Unknown Offense  300 S LOUDON AVE  4 3550                 POSSESSION   \n",
       "2   Unknown Offense               NaN  1 0077          FAILURE TO APPEAR   \n",
       "3   Unknown Offense               NaN  1 0077          FAILURE TO APPEAR   \n",
       "4   Unknown Offense               NaN  2 0480  MOTOR VEH/UNLAWFUL TAKING   \n",
       "\n",
       "       District   Post   Neighborhood                       Location 1  \\\n",
       "0  Northeastern  432.0  Belair-Edison  (39.3208685519, -76.5652449141)   \n",
       "1  Southwestern  833.0      Irvington  (39.2811486601, -76.6821278085)   \n",
       "2           NaN    NaN            NaN                              NaN   \n",
       "3           NaN    NaN            NaN                              NaN   \n",
       "4           NaN    NaN            NaN                              NaN   \n",
       "\n",
       "   ArrestYear  \n",
       "0        2016  \n",
       "1        2016  \n",
       "2        2016  \n",
       "3        2016  \n",
       "4        2016  "
      ]
     },
     "execution_count": 162,
     "metadata": {},
     "output_type": "execute_result"
    }
   ],
   "source": [
    "def get_year(date):\n",
    "    return date.year\n",
    "    \n",
    "arrests.loc[:, \"ArrestYear\"] = arrests.loc[:, \"ArrestDate\"].apply(get_year)\n",
    "arrests.head()"
   ]
  },
  {
   "cell_type": "code",
   "execution_count": 202,
   "metadata": {},
   "outputs": [],
   "source": [
    "# Selecting only data from 2015 and 2016\n",
    "arrests = arrests.loc[arrests.loc[:, \"ArrestYear\"].isin([2015, 2016]), :]"
   ]
  },
  {
   "cell_type": "code",
   "execution_count": 201,
   "metadata": {},
   "outputs": [
    {
     "data": {
      "text/plain": [
       "B    0.817141\n",
       "W    0.155431\n",
       "U    0.020838\n",
       "I    0.003918\n",
       "A    0.002673\n",
       "Name: Race, dtype: float64"
      ]
     },
     "execution_count": 201,
     "metadata": {},
     "output_type": "execute_result"
    }
   ],
   "source": [
    "arrests.loc[:, \"Race\"].value_counts(normalize=True)"
   ]
  },
  {
   "cell_type": "code",
   "execution_count": null,
   "metadata": {},
   "outputs": [],
   "source": []
  }
 ],
 "metadata": {
  "kernelspec": {
   "display_name": "Python 3",
   "language": "python",
   "name": "python3"
  },
  "language_info": {
   "codemirror_mode": {
    "name": "ipython",
    "version": 3
   },
   "file_extension": ".py",
   "mimetype": "text/x-python",
   "name": "python",
   "nbconvert_exporter": "python",
   "pygments_lexer": "ipython3",
   "version": "3.7.4"
  }
 },
 "nbformat": 4,
 "nbformat_minor": 4
}
