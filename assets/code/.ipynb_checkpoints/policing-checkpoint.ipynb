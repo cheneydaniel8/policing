{
 "cells": [
  {
   "cell_type": "code",
   "execution_count": 1,
   "metadata": {},
   "outputs": [],
   "source": [
    "import pandas as pd"
   ]
  },
  {
   "cell_type": "code",
   "execution_count": 2,
   "metadata": {},
   "outputs": [],
   "source": [
    "DATADIR = \"../data/\""
   ]
  },
  {
   "cell_type": "code",
   "execution_count": 5,
   "metadata": {},
   "outputs": [],
   "source": [
    "arrests = pd.read_csv(f\"{DATADIR}balitimore_police_arrests.csv\")"
   ]
  },
  {
   "cell_type": "code",
   "execution_count": 6,
   "metadata": {},
   "outputs": [
    {
     "data": {
      "text/html": [
       "<div>\n",
       "<style scoped>\n",
       "    .dataframe tbody tr th:only-of-type {\n",
       "        vertical-align: middle;\n",
       "    }\n",
       "\n",
       "    .dataframe tbody tr th {\n",
       "        vertical-align: top;\n",
       "    }\n",
       "\n",
       "    .dataframe thead th {\n",
       "        text-align: right;\n",
       "    }\n",
       "</style>\n",
       "<table border=\"1\" class=\"dataframe\">\n",
       "  <thead>\n",
       "    <tr style=\"text-align: right;\">\n",
       "      <th></th>\n",
       "      <th>Arrest</th>\n",
       "      <th>Age</th>\n",
       "      <th>Sex</th>\n",
       "      <th>Race</th>\n",
       "      <th>ArrestDate</th>\n",
       "      <th>ArrestTime</th>\n",
       "      <th>ArrestLocation</th>\n",
       "      <th>IncidentOffense</th>\n",
       "      <th>IncidentLocation</th>\n",
       "      <th>Charge</th>\n",
       "      <th>ChargeDescription</th>\n",
       "      <th>District</th>\n",
       "      <th>Post</th>\n",
       "      <th>Neighborhood</th>\n",
       "      <th>Location 1</th>\n",
       "    </tr>\n",
       "  </thead>\n",
       "  <tbody>\n",
       "    <tr>\n",
       "      <th>0</th>\n",
       "      <td>16160529.0</td>\n",
       "      <td>54.0</td>\n",
       "      <td>M</td>\n",
       "      <td>B</td>\n",
       "      <td>11/12/2016</td>\n",
       "      <td>22:35</td>\n",
       "      <td>3500 PELHAM AVE</td>\n",
       "      <td>4ECOMMON ASSAULT</td>\n",
       "      <td>3500 PELHAM AVE</td>\n",
       "      <td>1 1415</td>\n",
       "      <td>COMMON ASSAULT</td>\n",
       "      <td>Northeastern</td>\n",
       "      <td>432.0</td>\n",
       "      <td>Belair-Edison</td>\n",
       "      <td>(39.3208685519, -76.5652449141)</td>\n",
       "    </tr>\n",
       "    <tr>\n",
       "      <th>1</th>\n",
       "      <td>16160490.0</td>\n",
       "      <td>22.0</td>\n",
       "      <td>M</td>\n",
       "      <td>B</td>\n",
       "      <td>11/12/2016</td>\n",
       "      <td>21:49</td>\n",
       "      <td>300 S LOUDON AVE</td>\n",
       "      <td>Unknown Offense</td>\n",
       "      <td>300 S LOUDON AVE</td>\n",
       "      <td>4 3550</td>\n",
       "      <td>POSSESSION</td>\n",
       "      <td>Southwestern</td>\n",
       "      <td>833.0</td>\n",
       "      <td>Irvington</td>\n",
       "      <td>(39.2811486601, -76.6821278085)</td>\n",
       "    </tr>\n",
       "    <tr>\n",
       "      <th>2</th>\n",
       "      <td>16160487.0</td>\n",
       "      <td>31.0</td>\n",
       "      <td>M</td>\n",
       "      <td>B</td>\n",
       "      <td>11/12/2016</td>\n",
       "      <td>21:40</td>\n",
       "      <td>NaN</td>\n",
       "      <td>Unknown Offense</td>\n",
       "      <td>NaN</td>\n",
       "      <td>1 0077</td>\n",
       "      <td>FAILURE TO APPEAR</td>\n",
       "      <td>NaN</td>\n",
       "      <td>NaN</td>\n",
       "      <td>NaN</td>\n",
       "      <td>NaN</td>\n",
       "    </tr>\n",
       "    <tr>\n",
       "      <th>3</th>\n",
       "      <td>16160485.0</td>\n",
       "      <td>31.0</td>\n",
       "      <td>M</td>\n",
       "      <td>B</td>\n",
       "      <td>11/12/2016</td>\n",
       "      <td>20:30</td>\n",
       "      <td>NaN</td>\n",
       "      <td>Unknown Offense</td>\n",
       "      <td>NaN</td>\n",
       "      <td>1 0077</td>\n",
       "      <td>FAILURE TO APPEAR</td>\n",
       "      <td>NaN</td>\n",
       "      <td>NaN</td>\n",
       "      <td>NaN</td>\n",
       "      <td>NaN</td>\n",
       "    </tr>\n",
       "    <tr>\n",
       "      <th>4</th>\n",
       "      <td>16160481.0</td>\n",
       "      <td>33.0</td>\n",
       "      <td>M</td>\n",
       "      <td>B</td>\n",
       "      <td>11/12/2016</td>\n",
       "      <td>19:45</td>\n",
       "      <td>NaN</td>\n",
       "      <td>Unknown Offense</td>\n",
       "      <td>NaN</td>\n",
       "      <td>2 0480</td>\n",
       "      <td>MOTOR VEH/UNLAWFUL TAKING</td>\n",
       "      <td>NaN</td>\n",
       "      <td>NaN</td>\n",
       "      <td>NaN</td>\n",
       "      <td>NaN</td>\n",
       "    </tr>\n",
       "  </tbody>\n",
       "</table>\n",
       "</div>"
      ],
      "text/plain": [
       "       Arrest   Age Sex Race  ArrestDate ArrestTime    ArrestLocation  \\\n",
       "0  16160529.0  54.0   M    B  11/12/2016      22:35   3500 PELHAM AVE   \n",
       "1  16160490.0  22.0   M    B  11/12/2016      21:49  300 S LOUDON AVE   \n",
       "2  16160487.0  31.0   M    B  11/12/2016      21:40               NaN   \n",
       "3  16160485.0  31.0   M    B  11/12/2016      20:30               NaN   \n",
       "4  16160481.0  33.0   M    B  11/12/2016      19:45               NaN   \n",
       "\n",
       "    IncidentOffense  IncidentLocation  Charge          ChargeDescription  \\\n",
       "0  4ECOMMON ASSAULT   3500 PELHAM AVE  1 1415             COMMON ASSAULT   \n",
       "1   Unknown Offense  300 S LOUDON AVE  4 3550                 POSSESSION   \n",
       "2   Unknown Offense               NaN  1 0077          FAILURE TO APPEAR   \n",
       "3   Unknown Offense               NaN  1 0077          FAILURE TO APPEAR   \n",
       "4   Unknown Offense               NaN  2 0480  MOTOR VEH/UNLAWFUL TAKING   \n",
       "\n",
       "       District   Post   Neighborhood                       Location 1  \n",
       "0  Northeastern  432.0  Belair-Edison  (39.3208685519, -76.5652449141)  \n",
       "1  Southwestern  833.0      Irvington  (39.2811486601, -76.6821278085)  \n",
       "2           NaN    NaN            NaN                              NaN  \n",
       "3           NaN    NaN            NaN                              NaN  \n",
       "4           NaN    NaN            NaN                              NaN  "
      ]
     },
     "execution_count": 6,
     "metadata": {},
     "output_type": "execute_result"
    }
   ],
   "source": [
    "arrests.head()"
   ]
  },
  {
   "cell_type": "code",
   "execution_count": 7,
   "metadata": {},
   "outputs": [
    {
     "data": {
      "text/plain": [
       "(130713, 15)"
      ]
     },
     "execution_count": 7,
     "metadata": {},
     "output_type": "execute_result"
    }
   ],
   "source": [
    "arrests.shape"
   ]
  },
  {
   "cell_type": "code",
   "execution_count": 8,
   "metadata": {},
   "outputs": [
    {
     "data": {
      "text/plain": [
       "Arrest               float64\n",
       "Age                  float64\n",
       "Sex                   object\n",
       "Race                  object\n",
       "ArrestDate            object\n",
       "ArrestTime            object\n",
       "ArrestLocation        object\n",
       "IncidentOffense       object\n",
       "IncidentLocation      object\n",
       "Charge                object\n",
       "ChargeDescription     object\n",
       "District              object\n",
       "Post                 float64\n",
       "Neighborhood          object\n",
       "Location 1            object\n",
       "dtype: object"
      ]
     },
     "execution_count": 8,
     "metadata": {},
     "output_type": "execute_result"
    }
   ],
   "source": [
    "arrests.dtypes"
   ]
  },
  {
   "cell_type": "code",
   "execution_count": null,
   "metadata": {},
   "outputs": [],
   "source": []
  }
 ],
 "metadata": {
  "kernelspec": {
   "display_name": "Python 3",
   "language": "python",
   "name": "python3"
  },
  "language_info": {
   "codemirror_mode": {
    "name": "ipython",
    "version": 3
   },
   "file_extension": ".py",
   "mimetype": "text/x-python",
   "name": "python",
   "nbconvert_exporter": "python",
   "pygments_lexer": "ipython3",
   "version": "3.7.4"
  }
 },
 "nbformat": 4,
 "nbformat_minor": 4
}
